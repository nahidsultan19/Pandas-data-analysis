{
 "cells": [
  {
   "cell_type": "code",
   "execution_count": 34,
   "id": "c31f2d5a",
   "metadata": {},
   "outputs": [],
   "source": [
    "people={\n",
    "    \"first\":['nahid','sultan','hamid'],\n",
    "    \"last\":['sultan','mahmud','hasan'],\n",
    "    \"email\":['nahidsultan@gmail.com','sultanmahmud@gmail.com','hamidhasan@gmail.com']\n",
    "}"
   ]
  },
  {
   "cell_type": "code",
   "execution_count": 35,
   "id": "f50b6d81",
   "metadata": {},
   "outputs": [],
   "source": [
    "import pandas as pd"
   ]
  },
  {
   "cell_type": "code",
   "execution_count": 36,
   "id": "9aa962b6",
   "metadata": {},
   "outputs": [],
   "source": [
    "df =pd.DataFrame(people)"
   ]
  },
  {
   "cell_type": "code",
   "execution_count": 37,
   "id": "dd9dc34b",
   "metadata": {},
   "outputs": [
    {
     "data": {
      "text/html": [
       "<div>\n",
       "<style scoped>\n",
       "    .dataframe tbody tr th:only-of-type {\n",
       "        vertical-align: middle;\n",
       "    }\n",
       "\n",
       "    .dataframe tbody tr th {\n",
       "        vertical-align: top;\n",
       "    }\n",
       "\n",
       "    .dataframe thead th {\n",
       "        text-align: right;\n",
       "    }\n",
       "</style>\n",
       "<table border=\"1\" class=\"dataframe\">\n",
       "  <thead>\n",
       "    <tr style=\"text-align: right;\">\n",
       "      <th></th>\n",
       "      <th>first</th>\n",
       "      <th>last</th>\n",
       "      <th>email</th>\n",
       "    </tr>\n",
       "  </thead>\n",
       "  <tbody>\n",
       "    <tr>\n",
       "      <th>0</th>\n",
       "      <td>nahid</td>\n",
       "      <td>sultan</td>\n",
       "      <td>nahidsultan@gmail.com</td>\n",
       "    </tr>\n",
       "    <tr>\n",
       "      <th>1</th>\n",
       "      <td>sultan</td>\n",
       "      <td>mahmud</td>\n",
       "      <td>sultanmahmud@gmail.com</td>\n",
       "    </tr>\n",
       "    <tr>\n",
       "      <th>2</th>\n",
       "      <td>hamid</td>\n",
       "      <td>hasan</td>\n",
       "      <td>hamidhasan@gmail.com</td>\n",
       "    </tr>\n",
       "  </tbody>\n",
       "</table>\n",
       "</div>"
      ],
      "text/plain": [
       "    first    last                   email\n",
       "0   nahid  sultan   nahidsultan@gmail.com\n",
       "1  sultan  mahmud  sultanmahmud@gmail.com\n",
       "2   hamid   hasan    hamidhasan@gmail.com"
      ]
     },
     "execution_count": 37,
     "metadata": {},
     "output_type": "execute_result"
    }
   ],
   "source": [
    "df"
   ]
  },
  {
   "cell_type": "code",
   "execution_count": 38,
   "id": "f06b47f9",
   "metadata": {},
   "outputs": [],
   "source": [
    "df.loc[2, 'last']= 'babu'"
   ]
  },
  {
   "cell_type": "code",
   "execution_count": 39,
   "id": "b38aa8ce",
   "metadata": {},
   "outputs": [
    {
     "data": {
      "text/html": [
       "<div>\n",
       "<style scoped>\n",
       "    .dataframe tbody tr th:only-of-type {\n",
       "        vertical-align: middle;\n",
       "    }\n",
       "\n",
       "    .dataframe tbody tr th {\n",
       "        vertical-align: top;\n",
       "    }\n",
       "\n",
       "    .dataframe thead th {\n",
       "        text-align: right;\n",
       "    }\n",
       "</style>\n",
       "<table border=\"1\" class=\"dataframe\">\n",
       "  <thead>\n",
       "    <tr style=\"text-align: right;\">\n",
       "      <th></th>\n",
       "      <th>first</th>\n",
       "      <th>last</th>\n",
       "      <th>email</th>\n",
       "    </tr>\n",
       "  </thead>\n",
       "  <tbody>\n",
       "    <tr>\n",
       "      <th>0</th>\n",
       "      <td>nahid</td>\n",
       "      <td>sultan</td>\n",
       "      <td>nahidsultan@gmail.com</td>\n",
       "    </tr>\n",
       "    <tr>\n",
       "      <th>1</th>\n",
       "      <td>sultan</td>\n",
       "      <td>mahmud</td>\n",
       "      <td>sultanmahmud@gmail.com</td>\n",
       "    </tr>\n",
       "    <tr>\n",
       "      <th>2</th>\n",
       "      <td>hamid</td>\n",
       "      <td>babu</td>\n",
       "      <td>hamidhasan@gmail.com</td>\n",
       "    </tr>\n",
       "  </tbody>\n",
       "</table>\n",
       "</div>"
      ],
      "text/plain": [
       "    first    last                   email\n",
       "0   nahid  sultan   nahidsultan@gmail.com\n",
       "1  sultan  mahmud  sultanmahmud@gmail.com\n",
       "2   hamid    babu    hamidhasan@gmail.com"
      ]
     },
     "execution_count": 39,
     "metadata": {},
     "output_type": "execute_result"
    }
   ],
   "source": [
    "df"
   ]
  },
  {
   "cell_type": "code",
   "execution_count": 40,
   "id": "89693aad",
   "metadata": {},
   "outputs": [],
   "source": [
    "df.at[2, 'last']= 'hasan'"
   ]
  },
  {
   "cell_type": "code",
   "execution_count": 41,
   "id": "8a942724",
   "metadata": {},
   "outputs": [
    {
     "data": {
      "text/html": [
       "<div>\n",
       "<style scoped>\n",
       "    .dataframe tbody tr th:only-of-type {\n",
       "        vertical-align: middle;\n",
       "    }\n",
       "\n",
       "    .dataframe tbody tr th {\n",
       "        vertical-align: top;\n",
       "    }\n",
       "\n",
       "    .dataframe thead th {\n",
       "        text-align: right;\n",
       "    }\n",
       "</style>\n",
       "<table border=\"1\" class=\"dataframe\">\n",
       "  <thead>\n",
       "    <tr style=\"text-align: right;\">\n",
       "      <th></th>\n",
       "      <th>first</th>\n",
       "      <th>last</th>\n",
       "      <th>email</th>\n",
       "    </tr>\n",
       "  </thead>\n",
       "  <tbody>\n",
       "    <tr>\n",
       "      <th>0</th>\n",
       "      <td>nahid</td>\n",
       "      <td>sultan</td>\n",
       "      <td>nahidsultan@gmail.com</td>\n",
       "    </tr>\n",
       "    <tr>\n",
       "      <th>1</th>\n",
       "      <td>sultan</td>\n",
       "      <td>mahmud</td>\n",
       "      <td>sultanmahmud@gmail.com</td>\n",
       "    </tr>\n",
       "    <tr>\n",
       "      <th>2</th>\n",
       "      <td>hamid</td>\n",
       "      <td>hasan</td>\n",
       "      <td>hamidhasan@gmail.com</td>\n",
       "    </tr>\n",
       "  </tbody>\n",
       "</table>\n",
       "</div>"
      ],
      "text/plain": [
       "    first    last                   email\n",
       "0   nahid  sultan   nahidsultan@gmail.com\n",
       "1  sultan  mahmud  sultanmahmud@gmail.com\n",
       "2   hamid   hasan    hamidhasan@gmail.com"
      ]
     },
     "execution_count": 41,
     "metadata": {},
     "output_type": "execute_result"
    }
   ],
   "source": [
    "df"
   ]
  },
  {
   "cell_type": "code",
   "execution_count": 42,
   "id": "b673be3d",
   "metadata": {},
   "outputs": [],
   "source": [
    "filt =(df['email']=='hamidhasan@gmail.com')"
   ]
  },
  {
   "cell_type": "code",
   "execution_count": 43,
   "id": "07a1947a",
   "metadata": {},
   "outputs": [
    {
     "data": {
      "text/plain": [
       "2    hasan\n",
       "Name: last, dtype: object"
      ]
     },
     "execution_count": 43,
     "metadata": {},
     "output_type": "execute_result"
    }
   ],
   "source": [
    "df[filt]['last']"
   ]
  },
  {
   "cell_type": "code",
   "execution_count": 44,
   "id": "d806bd7e",
   "metadata": {},
   "outputs": [],
   "source": [
    "df.loc[filt,'last']='khan'"
   ]
  },
  {
   "cell_type": "code",
   "execution_count": 45,
   "id": "5807c69c",
   "metadata": {},
   "outputs": [
    {
     "ename": "SyntaxError",
     "evalue": "invalid syntax (Temp/ipykernel_9120/4103945125.py, line 1)",
     "output_type": "error",
     "traceback": [
      "\u001b[1;36m  File \u001b[1;32m\"C:\\Users\\NAHID\\AppData\\Local\\Temp/ipykernel_9120/4103945125.py\"\u001b[1;36m, line \u001b[1;32m1\u001b[0m\n\u001b[1;33m    df['email'=df['email'].str.lower()\u001b[0m\n\u001b[1;37m              ^\u001b[0m\n\u001b[1;31mSyntaxError\u001b[0m\u001b[1;31m:\u001b[0m invalid syntax\n"
     ]
    }
   ],
   "source": [
    "df['email'=df['email'].str.lower()"
   ]
  },
  {
   "cell_type": "code",
   "execution_count": null,
   "id": "548d4ecd",
   "metadata": {},
   "outputs": [],
   "source": [
    "df"
   ]
  },
  {
   "cell_type": "code",
   "execution_count": null,
   "id": "f25ef5bc",
   "metadata": {},
   "outputs": [],
   "source": [
    "df['email'].apply(len)"
   ]
  },
  {
   "cell_type": "code",
   "execution_count": null,
   "id": "0367bf8f",
   "metadata": {},
   "outputs": [],
   "source": [
    "def update_email(email):\n",
    "    return email.upper()"
   ]
  },
  {
   "cell_type": "code",
   "execution_count": null,
   "id": "f6505328",
   "metadata": {},
   "outputs": [],
   "source": [
    "df['email'].apply(update_email)"
   ]
  },
  {
   "cell_type": "code",
   "execution_count": null,
   "id": "b3db0ec8",
   "metadata": {},
   "outputs": [],
   "source": [
    "df['email']=df['email'].apply(update_email)"
   ]
  },
  {
   "cell_type": "code",
   "execution_count": null,
   "id": "39f8b932",
   "metadata": {},
   "outputs": [],
   "source": [
    "df"
   ]
  },
  {
   "cell_type": "code",
   "execution_count": null,
   "id": "f4c720d4",
   "metadata": {},
   "outputs": [],
   "source": [
    "df['email']=df['email'].apply(lambda x: x.lower())"
   ]
  },
  {
   "cell_type": "code",
   "execution_count": null,
   "id": "da03ab8a",
   "metadata": {},
   "outputs": [],
   "source": [
    "df"
   ]
  },
  {
   "cell_type": "code",
   "execution_count": null,
   "id": "33e96b89",
   "metadata": {},
   "outputs": [],
   "source": [
    "df['email'].apply(len)"
   ]
  },
  {
   "cell_type": "code",
   "execution_count": null,
   "id": "21f9b154",
   "metadata": {},
   "outputs": [],
   "source": [
    "df.apply(len)"
   ]
  },
  {
   "cell_type": "code",
   "execution_count": null,
   "id": "e1a5624b",
   "metadata": {},
   "outputs": [],
   "source": [
    "df.apply(pd.Series.min)"
   ]
  },
  {
   "cell_type": "code",
   "execution_count": null,
   "id": "879aad8b",
   "metadata": {},
   "outputs": [],
   "source": [
    "df.apply(lambda x: x.min())"
   ]
  },
  {
   "cell_type": "code",
   "execution_count": null,
   "id": "df9d1b71",
   "metadata": {},
   "outputs": [],
   "source": [
    "df.applymap(len)"
   ]
  },
  {
   "cell_type": "code",
   "execution_count": null,
   "id": "da1ba50f",
   "metadata": {},
   "outputs": [],
   "source": [
    "df['first'].map({'nahid':'ifty','sultan':'nafsia'})"
   ]
  },
  {
   "cell_type": "code",
   "execution_count": null,
   "id": "78cb6bac",
   "metadata": {},
   "outputs": [],
   "source": [
    "df['first']=df['first'].replace({'nahid':'ifty','nafsia':'sultan'})"
   ]
  },
  {
   "cell_type": "code",
   "execution_count": null,
   "id": "edc89159",
   "metadata": {},
   "outputs": [],
   "source": [
    "df"
   ]
  },
  {
   "cell_type": "code",
   "execution_count": null,
   "id": "85c45fee",
   "metadata": {},
   "outputs": [],
   "source": [
    "df['first']+ ' ' + df['last']"
   ]
  },
  {
   "cell_type": "code",
   "execution_count": null,
   "id": "ddb105cd",
   "metadata": {},
   "outputs": [],
   "source": [
    "df['full_name']= df['first']+ ' ' + df['last']"
   ]
  },
  {
   "cell_type": "code",
   "execution_count": null,
   "id": "3745839d",
   "metadata": {},
   "outputs": [],
   "source": [
    "df"
   ]
  },
  {
   "cell_type": "code",
   "execution_count": null,
   "id": "0b0a61ad",
   "metadata": {},
   "outputs": [],
   "source": [
    "df.drop(columns=['first', 'last'], inplace=True)"
   ]
  },
  {
   "cell_type": "code",
   "execution_count": null,
   "id": "64081d7c",
   "metadata": {},
   "outputs": [],
   "source": [
    "df"
   ]
  },
  {
   "cell_type": "code",
   "execution_count": null,
   "id": "1e8298a1",
   "metadata": {},
   "outputs": [],
   "source": [
    "df['full_name'].str.split(' ', expand=True)"
   ]
  },
  {
   "cell_type": "code",
   "execution_count": null,
   "id": "cd923f44",
   "metadata": {},
   "outputs": [],
   "source": [
    "df[['first','last']] = df['full_name'].str.split(' ', expand=True)"
   ]
  },
  {
   "cell_type": "code",
   "execution_count": null,
   "id": "00b40a5b",
   "metadata": {},
   "outputs": [],
   "source": [
    "df"
   ]
  },
  {
   "cell_type": "code",
   "execution_count": null,
   "id": "0676ae4f",
   "metadata": {},
   "outputs": [],
   "source": [
    "df.append({'fisrt':'Tommy'}, ignore_index=True)"
   ]
  },
  {
   "cell_type": "code",
   "execution_count": null,
   "id": "7c18c46e",
   "metadata": {},
   "outputs": [],
   "source": [
    "people={\n",
    "    \"first\":['Tommy','selby',],\n",
    "    \"last\":['Stark','Roger',],\n",
    "    \"email\":['tommyselbygmail.com','starkroger@gmail.com',]\n",
    "}\n",
    "df2 = pd.DataFrame(people)"
   ]
  },
  {
   "cell_type": "code",
   "execution_count": null,
   "id": "fbcef72d",
   "metadata": {},
   "outputs": [],
   "source": [
    "df2"
   ]
  },
  {
   "cell_type": "code",
   "execution_count": null,
   "id": "05a4c3c6",
   "metadata": {},
   "outputs": [],
   "source": [
    "df.append(df2, ignore_index=True)"
   ]
  },
  {
   "cell_type": "code",
   "execution_count": null,
   "id": "1a90673d",
   "metadata": {},
   "outputs": [],
   "source": [
    "df.drop(columns=['fisrt'], inplace=True)"
   ]
  },
  {
   "cell_type": "code",
   "execution_count": null,
   "id": "081f317e",
   "metadata": {},
   "outputs": [],
   "source": [
    "df"
   ]
  },
  {
   "cell_type": "code",
   "execution_count": null,
   "id": "ab8a68b4",
   "metadata": {},
   "outputs": [],
   "source": [
    "df = df.append(df2, ignore_index=True, sort=False)"
   ]
  },
  {
   "cell_type": "code",
   "execution_count": null,
   "id": "36dcd708",
   "metadata": {},
   "outputs": [],
   "source": [
    "df"
   ]
  },
  {
   "cell_type": "code",
   "execution_count": null,
   "id": "95915399",
   "metadata": {},
   "outputs": [],
   "source": [
    "df.drop(index=6)"
   ]
  },
  {
   "cell_type": "code",
   "execution_count": null,
   "id": "6bec4dd6",
   "metadata": {},
   "outputs": [],
   "source": [
    "filt= df['last']=='Roger'\n",
    "df.drop(index=df[filt].index)"
   ]
  },
  {
   "cell_type": "code",
   "execution_count": null,
   "id": "df79372c",
   "metadata": {},
   "outputs": [],
   "source": [
    "df.sort_values(by='last', ascending=False)"
   ]
  },
  {
   "cell_type": "code",
   "execution_count": null,
   "id": "ecbd34bb",
   "metadata": {},
   "outputs": [],
   "source": [
    "df.sort_values(by=['last','first'], ascending=False, inplace=True)"
   ]
  },
  {
   "cell_type": "code",
   "execution_count": null,
   "id": "1faf9757",
   "metadata": {},
   "outputs": [],
   "source": [
    "df"
   ]
  },
  {
   "cell_type": "code",
   "execution_count": null,
   "id": "98b2a4ca",
   "metadata": {},
   "outputs": [],
   "source": [
    "df['last'].sort_values()"
   ]
  },
  {
   "cell_type": "code",
   "execution_count": null,
   "id": "35e0d969",
   "metadata": {},
   "outputs": [],
   "source": [
    "import pandas as pd\n",
    "import numpy as np\n",
    "\n",
    "people2={\n",
    "    \"first\":['nahid','sultan','hamid','Chris',np.nan,None,'NA'],\n",
    "    \"last\":['sultan','mahmud','hasan','Schefer',np.nan,np.nan,'Missing'],\n",
    "    \"email\":['nahidsultan@gmail.com','sultanmahmud@gmail.com','hamidhasan@gmail.com',None,np.nan,np.nan,'Missing'],\n",
    "    \"age\":['33','25','44','65',None,None,'Missing']\n",
    "}"
   ]
  },
  {
   "cell_type": "code",
   "execution_count": null,
   "id": "05729c3a",
   "metadata": {},
   "outputs": [],
   "source": [
    "df3= pd.DataFrame(people2)\n",
    "df3.replace('NA',np.nan, inplace=True)\n",
    "df3.replace('Missing',np.nan, inplace=True)\n",
    "df3"
   ]
  },
  {
   "cell_type": "code",
   "execution_count": null,
   "id": "bcd46f08",
   "metadata": {},
   "outputs": [],
   "source": [
    "df3.dropna()"
   ]
  },
  {
   "cell_type": "code",
   "execution_count": null,
   "id": "d6748b52",
   "metadata": {},
   "outputs": [],
   "source": [
    "df3.dropna(axis='index', how='all', subset=['last','email'])"
   ]
  },
  {
   "cell_type": "code",
   "execution_count": null,
   "id": "36890e8a",
   "metadata": {},
   "outputs": [],
   "source": [
    "df3.isna()"
   ]
  },
  {
   "cell_type": "code",
   "execution_count": null,
   "id": "86bdb2ed",
   "metadata": {},
   "outputs": [],
   "source": [
    "df3.fillna(0)"
   ]
  },
  {
   "cell_type": "code",
   "execution_count": null,
   "id": "987d13ed",
   "metadata": {},
   "outputs": [],
   "source": [
    "df3.dtypes"
   ]
  },
  {
   "cell_type": "code",
   "execution_count": null,
   "id": "96be0c7b",
   "metadata": {},
   "outputs": [],
   "source": [
    "df3['age'].mean()"
   ]
  },
  {
   "cell_type": "code",
   "execution_count": null,
   "id": "69487cb9",
   "metadata": {},
   "outputs": [],
   "source": [
    "df3['age']=df3['age'].astype(float)"
   ]
  },
  {
   "cell_type": "code",
   "execution_count": null,
   "id": "ec97b1bd",
   "metadata": {},
   "outputs": [],
   "source": [
    "df3.dtypes"
   ]
  },
  {
   "cell_type": "code",
   "execution_count": null,
   "id": "c3557a15",
   "metadata": {},
   "outputs": [],
   "source": [
    "df3['age'].mean()"
   ]
  },
  {
   "cell_type": "code",
   "execution_count": null,
   "id": "88e6c342",
   "metadata": {},
   "outputs": [],
   "source": []
  }
 ],
 "metadata": {
  "kernelspec": {
   "display_name": "Python 3 (ipykernel)",
   "language": "python",
   "name": "python3"
  },
  "language_info": {
   "codemirror_mode": {
    "name": "ipython",
    "version": 3
   },
   "file_extension": ".py",
   "mimetype": "text/x-python",
   "name": "python",
   "nbconvert_exporter": "python",
   "pygments_lexer": "ipython3",
   "version": "3.9.7"
  }
 },
 "nbformat": 4,
 "nbformat_minor": 5
}
